{
 "cells": [
  {
   "cell_type": "code",
   "execution_count": null,
   "metadata": {},
   "outputs": [],
   "source": [
    "!pip install qdrant-client"
   ]
  },
  {
   "cell_type": "code",
   "execution_count": null,
   "metadata": {},
   "outputs": [],
   "source": [
    "QDRANT_KEY = \"i-XYrx9YHAWP8k2xRM_R9uwZlSIZWnfz5v4SIfREBqREYb7Hc83f8Q\"\n",
    "QDRANT_URI = \"452250b2-c7ed-4c0e-bede-89cf5a18af83.us-east4-0.gcp.cloud.qdrant.io\"\n",
    "QDRANT_PORT = \"6333\""
   ]
  },
  {
   "cell_type": "code",
   "execution_count": null,
   "metadata": {},
   "outputs": [],
   "source": [
    "from qdrant_client import QdrantClient\n",
    "\n",
    "try:\n",
    "    # Kết nối tới Qdrant\n",
    "    client = QdrantClient(\n",
    "        url=f\"https://{QDRANT_URI}\",  # URI của Qdrant\n",
    "        api_key=QDRANT_KEY           # API Key để xác thực\n",
    "    )\n",
    "\n",
    "    # In thông báo thành công\n",
    "    print(\"Kết nối tới Qdrant thành công!\")\n",
    "    print(client)\n",
    "\n",
    "except Exception as e:\n",
    "    # In thông báo lỗi nếu kết nối thất bại\n",
    "    print(\"Kết nối tới Qdrant thất bại!\")\n",
    "    print(f\"Lỗi: {e}\")"
   ]
  },
  {
   "cell_type": "code",
   "execution_count": null,
   "metadata": {},
   "outputs": [],
   "source": [
    "# Lấy danh sách các collections\n",
    "collections_response = client.get_collections()\n",
    "\n",
    "# Hiển thị danh sách collections\n",
    "print(\"Danh sách collections:\")\n",
    "for collection in collections_response.collections:  # Truy cập thuộc tính .collections\n",
    "    print(f\"- {collection.name}\")  # Truy cập thuộc tính .name của mỗi collection"
   ]
  },
  {
   "cell_type": "code",
   "execution_count": null,
   "metadata": {},
   "outputs": [],
   "source": [
    "# Lấy danh sách keys từ collection Metachunk_hotpot_Qwen_1.5B_raw\n",
    "collection_name = \"Metachunk_hotpot_Qwen_1.5B_raw\"\n",
    "\n",
    "# Truy vấn tất cả các vector trong collection và lấy danh sách keys\n",
    "keys = client.scroll(\n",
    "    collection_name=collection_name,\n",
    "    scroll_filter=None,  # Không áp dụng filter, lấy toàn bộ\n",
    "    limit=100  # Số lượng kết quả tối đa trong mỗi lần scroll\n",
    ")\n",
    "\n",
    "# In danh sách keys\n",
    "\n",
    "# print(keys)"
   ]
  },
  {
   "cell_type": "markdown",
   "metadata": {},
   "source": [
    "Output trong đoạn code này là kết quả từ việc truy vấn một **collection** (bộ sưu tập dữ liệu) có tên `Metachunk_hotpot_Qwen_1.5B_raw`. Định dạng output là một danh sách các đối tượng (objects) kiểu `Record`. Dưới đây là giải thích từng phần chính của cấu trúc output:\n",
    "\n",
    "---\n",
    "\n",
    "### 1. **Cấu trúc chính của một `Record`**:\n",
    "Một `Record` là một đối tượng chứa các thông tin liên quan đến một phần tử dữ liệu trong collection. Các thành phần quan trọng bao gồm:\n",
    "\n",
    "#### - `id`:\n",
    "Đây là ID duy nhất để nhận diện phần tử trong collection. Ví dụ:\n",
    "```plaintext\n",
    "'id': '000158cf-3459-4587-8e7d-f5f3563aa88a'\n",
    "```\n",
    "\n",
    "#### - `payload`:\n",
    "Đây là thông tin chi tiết của phần tử, bao gồm:\n",
    "- **`doc`**: ID của tài liệu liên quan đến phần tử.\n",
    "- **`number_chunk`**: Số thứ tự của chunk (đoạn) dữ liệu trong tài liệu gốc. \n",
    "- **`_node_content`**: Đây là nội dung dữ liệu được lưu trữ, thường ở định dạng JSON. Ví dụ:\n",
    "  ```json\n",
    "  {\n",
    "    \"id_\": \"000158cf-3459-4587-8e7d-f5f3563aa88a\",\n",
    "    \"metadata\": {\"doc\": 1622, \"number_chunk\": 18},\n",
    "    \"text\": \"Dame Margaret Hodge conducted an inquiry into the planned structure...\"\n",
    "  }\n",
    "  ```\n",
    "  - `text`: Nội dung chính của chunk (một đoạn văn bản).\n",
    "  - `metadata`: Metadata đi kèm, ví dụ `doc` (tài liệu) và `number_chunk` (chunk số mấy).\n",
    "  - `relationships`: Các liên kết (nếu có) với các node khác.\n",
    "\n",
    "#### - `vector`:\n",
    "Thông thường đây là giá trị vector hóa của dữ liệu, nhưng trong ví dụ này nó là `null` (không có vector được trả về).\n",
    "\n",
    "---\n",
    "\n",
    "### 2. **Danh sách các `Record`**:\n",
    "Kết quả trả về là danh sách các `Record`, mỗi `Record` đại diện cho một đoạn dữ liệu trong collection. Ví dụ, một đoạn từ kết quả:\n",
    "\n",
    "```json\n",
    "{\n",
    "  \"id\": \"000158cf-3459-4587-8e7d-f5f3563aa88a\",\n",
    "  \"payload\": {\n",
    "    \"doc\": 1622,\n",
    "    \"number_chunk\": 18,\n",
    "    \"_node_content\": {\n",
    "      \"id_\": \"000158cf-3459-4587-8e7d-f5f3563aa88a\",\n",
    "      \"metadata\": {\"doc\": 1622, \"number_chunk\": 18},\n",
    "      \"text\": \"Dame Margaret Hodge conducted an inquiry into the planned structure...\"\n",
    "    }\n",
    "  }\n",
    "}\n",
    "```\n",
    "\n",
    "Mỗi phần tử có một nội dung văn bản (`text`) kèm theo metadata (ví dụ: `doc`, `number_chunk`) để dễ dàng quản lý và truy xuất dữ liệu.\n",
    "\n",
    "---\n",
    "\n",
    "### 3. **Ý nghĩa của cấu trúc này**:\n",
    "Cấu trúc này được sử dụng để lưu trữ và truy xuất dữ liệu từ các hệ thống quản lý thông tin dạng vector, thường là cho các bài toán AI như tìm kiếm thông minh, hệ thống gợi ý, hoặc xử lý ngôn ngữ tự nhiên.\n",
    "\n",
    "---\n",
    "\n",
    "Nếu bạn cần thêm chi tiết hoặc giải thích phần cụ thể nào khác, cứ hỏi nhé! 😊"
   ]
  },
  {
   "cell_type": "code",
   "execution_count": null,
   "metadata": {},
   "outputs": [],
   "source": [
    "# Lấy danh sách keys từ collection\n",
    "collection_name = \"Metachunk_hotpot_Qwen_1.5B_raw\"\n",
    "response = client.scroll(\n",
    "    collection_name=collection_name,\n",
    "    scroll_filter=None,  # Không áp dụng filter, lấy toàn bộ\n",
    "    limit=1000  # Số lượng lớn để đảm bảo không bị thiếu\n",
    ")\n",
    "\n",
    "# In kiểu dữ liệu và nội dung\n",
    "print(type(response))  # tuple \n",
    "# Kiểm tra nội dung của tuple\n",
    "print(response[0])  # Xem phần tử đầu tiên\n",
    "# print(response[1])  # Xem phần tử thứ hai (nếu có)"
   ]
  },
  {
   "cell_type": "code",
   "execution_count": null,
   "metadata": {},
   "outputs": [],
   "source": [
    "# Lấy tất cả data\n",
    "collection_name = \"Metachunk_hotpot_Qwen_1.5B_raw\"\n",
    "all_data = []  # Lưu tất cả các bản ghi\n",
    "next_offset = None  # Offset ban đầu là None\n",
    "\n",
    "while True:\n",
    "    # Cuộn qua collection\n",
    "    response = client.scroll(\n",
    "        collection_name=collection_name,\n",
    "        scroll_filter=None,  # Không áp dụng filter\n",
    "        limit=1000,          # Số lượng bản ghi tối đa trong mỗi lần cuộn\n",
    "        offset=next_offset   # Offset từ lần cuộn trước\n",
    "    )\n",
    "    \n",
    "    # Lấy danh sách bản ghi và offset tiếp theo\n",
    "    records, next_offset = response\n",
    "    \n",
    "    # Thêm bản ghi vào danh sách tổng\n",
    "    all_data.extend(records)\n",
    "    \n",
    "    # Dừng nếu không còn offset tiếp theo (hết dữ liệu)\n",
    "    if next_offset is None:\n",
    "        break\n",
    "\n",
    "# Sau khi hoàn tất, `all_data` chứa toàn bộ dữ liệu từ collection\n",
    "print(len(all_data))"
   ]
  },
  {
   "cell_type": "code",
   "execution_count": null,
   "metadata": {},
   "outputs": [],
   "source": [
    "print(len(all_data))# sort theo doc (từ 0)\n",
    "# sort theo number_chunk (từ 0)\n",
    "\n",
    "# Sắp xếp dữ liệu theo `doc` và `number_chunk`\n",
    "sorted_data = sorted(all_data, key=lambda x: (x.payload[\"doc\"], x.payload[\"number_chunk\"]))\n",
    "\n",
    "# Lấy `_node_content` từ dữ liệu đã sắp xếp\n",
    "detail_result = [json.loads(item.payload[\"_node_content\"]) for item in sorted_data[:5]]\n",
    "result = [json.loads(item.payload[\"_node_content\"])['text'] for item in sorted_data[:5]]\n",
    "\n",
    "# In kết quả đã sắp xếp\n",
    "print(detail_result[0])\n",
    "print(\"-----------\")\n",
    "# print(result)"
   ]
  },
  {
   "cell_type": "code",
   "execution_count": null,
   "metadata": {},
   "outputs": [],
   "source": [
    "# Lấy các trường `doc`, `number_chunk`, và `text` từ dữ liệu đã sắp xếp\n",
    "result = [\n",
    "    {\n",
    "        \"doc\": json.loads(item.payload[\"_node_content\"])[\"metadata\"][\"doc\"],\n",
    "        \"number_chunk\": json.loads(item.payload[\"_node_content\"])[\"metadata\"][\"number_chunk\"],\n",
    "        \"text\": json.loads(item.payload[\"_node_content\"])[\"text\"]\n",
    "    }\n",
    "    # for item in sorted_data[:5]  # Giới hạn lấy 5 phần tử đầu\n",
    "    for item in sorted_data  \n",
    "]\n",
    "\n",
    "# In kết quả\n",
    "print(result)\n",
    "for item in result:\n",
    "    print(item)\n",
    "    # print(f\"Doc: {item['doc']}, Number_Chunk: {item['number_chunk']}, Text: {item['text'][:100]}...\")  # Text chỉ in 100 ký tự đầu"
   ]
  },
  {
   "cell_type": "code",
   "execution_count": null,
   "metadata": {},
   "outputs": [],
   "source": [
    "# file_path = 'chunk_raptor_part_1.txt'\n",
    "\n",
    "file_path = 'chunks_data_meta_200token.json'\n",
    "\n",
    "# Mở file và ghi dữ liệu vào dưới dạng JSON\n",
    "with open(file_path, 'w') as json_file:\n",
    "    json.dump(result, json_file, ensure_ascii=False, indent=4)\n",
    "\n",
    "print(f\"Đã xuất dữ liệu vào file {file_path}\")"
   ]
  },
  {
   "cell_type": "markdown",
   "metadata": {},
   "source": []
  },
  {
   "cell_type": "markdown",
   "metadata": {},
   "source": []
  }
 ],
 "metadata": {
  "language_info": {
   "name": "python"
  }
 },
 "nbformat": 4,
 "nbformat_minor": 2
}
