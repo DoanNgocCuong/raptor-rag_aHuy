{
 "cells": [
  {
   "cell_type": "markdown",
   "metadata": {},
   "source": []
  },
  {
   "cell_type": "markdown",
   "metadata": {},
   "source": [
    "\n",
    "def get_top_k_chunk_text(file_json, file_json): \n",
    "    return list ....\n",
    "\n",
    "Giả sử ta có: \n",
    "```bash\n",
    "query = \"What is the significance of Miller v. California?\"\n",
    "top_k_chunks = [\n",
    "    {\"text\": \"Miller v. California, 413 U.S. 15 (1973), was a landmark decision of the U.S. Supreme Court modifying its definition of obscenity from that of 'utterly without socially redeeming value' to that which lacks 'serious literary, artistic, political, or scientific value.'\"},\n",
    "    {\"text\": \"The case redefined obscenity to include only materials that lack serious literary, artistic, political, or scientific value, creating the 'Miller test' that is still used today.\"},\n",
    "    {\"text\": \"Miller appealed his conviction on the grounds that the jury had not been instructed to consider whether the material in question lacked serious value, which led to the new definition being adopted.\"},\n",
    "    {\"text\": \"Gates v. Collier, on the other hand, was a landmark decision by the Fifth Circuit Court of Appeals that brought an end to the 'trusty system' and cruel practices at Parchman Farm prison in Mississippi.\"},\n",
    "    {\"text\": \"The 'Miller test' consists of three prongs: whether the average person, applying contemporary community standards, would find the work appeals to the prurient interest; whether it depicts sexual conduct in a patently offensive way; and whether it lacks serious value.\"}, \n",
    "    {\"text\": \"The case redefined obscenity to include only materials that lack serious literary, artistic, political, or scientific value, creating the 'Miller test' that is still used today.\"},\n",
    "    {\"text\": \"Miller appealed his conviction on the grounds that the jury had not been instructed to consider whether the material in question lacked serious value, which led to the new definition being adopted.\"},\n",
    "    {\"text\": \"The 'Miller test' consists of three prongs: whether the average person, applying contemporary community standards, would find the work appeals to the prurient interest; whether it depicts sexual conduct in a patently offensive way; and whether it lacks serious value.\"}\n",
    "]\n",
    "```\n",
    "\n",
    "1. def retrieval_chunk_text (query, top_k_chunks): (chunk_text for i in range(top_k_chunks ) \n",
    "-> prompt (trích xuất nội dung từ chunk_text) cái mà phù hợp với query \n",
    "\n",
    "2. def combine_top_k_chunk_text(query, top_k_chunks, top_k=5): sử dụng hàm trên và combine top_k=5 phần retrieval_chunk_text thành 1 retrieval_final_context\n",
    "\n",
    "3. Sau đó mới truyền nó qua def answer_question(final_context, query)"
   ]
  }
 ],
 "metadata": {
  "language_info": {
   "name": "python"
  }
 },
 "nbformat": 4,
 "nbformat_minor": 2
}
